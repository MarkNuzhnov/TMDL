{
 "cells": [
  {
   "cell_type": "markdown",
   "metadata": {
    "id": "TZSu1biXY4QB"
   },
   "source": [
    "### Theoretical methods of deep learning: Homework assignment 4\n",
    "Submit solution by uploading to canvas, **by Sunday, December 4th, 23:59**\n",
    "\n",
    "**Problem 1.** Consider the hierarchical broadcasting with the 2-state spin and the transition matrix \n",
    "\n",
    "$$M=(P(\\sigma_1|\\sigma_0))=\\begin{pmatrix}\n",
    "1-\\epsilon & 0 \\\\\n",
    "\\epsilon & 1 \\end{pmatrix}$$\n",
    "\n",
    "(i.e., the first state changes with probability $\\epsilon$ to second state, while the second state never changes).\n",
    "\n",
    "1. How does the maximum likelihood reconstruction work for this model? (Give a simple explicit description.)\n",
    "2. Assume that the branching number is $b$. Find theoretically for which pairs $(b,\\epsilon)$ the reconstruction is solvable/unsolvable (give proofs).\n",
    "3. For branching number $b=2$, find explicitely the survival probability of the first state (i.e., $P(\\bigcap_{n\\in\\mathbb N}(\\exists k:\\pmb\\sigma_n(k)=1)|\\sigma_0=1)$, where $\\pmb\\sigma_n(k)$ denotes the $k$'th spin in the $n$'th layer), as a function of $\\epsilon$.\n",
    "3. Confirm the obtained theoretical phase diagram numerically."
   ]
  },
  {
   "cell_type": "markdown",
   "metadata": {},
   "source": [
    "1. $\\sigma_0$ - root state, $(1, 2)$ - first and second state respectively. <br> If $\\sigma_0 = 2$ then $\\forall n, k \\rightarrow \\pmb \\sigma_n(k) = 2$. So if the last layer $\\pmb \\sigma_n$ contains 1-state, ML will predict $\\sigma_0^\\text{ML} = 1$ (since $P(\\pmb \\sigma_n: \\{ \\exists k: \\pmb \\sigma_n(k) = 1\\}|\\sigma_0 = 2) = 0$). <br>\n",
    "Now let's consider $\\pmb \\sigma_n : \\forall k \\rightarrow \\pmb\\sigma_n(k) = 2$.\n",
    "$$P(\\pmb \\sigma_n|\\sigma_0 = 2) = 1$$\n",
    "$$P(\\pmb \\sigma_n|\\sigma_0 = 1) = (1 - (1 - \\epsilon)^n)^{b^n} < 1$$\n",
    "So in this case ML will predict  $\\sigma_0^\\text{ML} = 2$.\n",
    "2. \n",
    "$$P^s_n(\\pmb \\sigma_n) = P(\\pmb \\sigma_n | \\sigma_0 = s)$$\n",
    "$P^{s=2}_n(\\pmb \\sigma_n) \\neq 0$ only if $\\forall k \\rightarrow \\pmb \\sigma_n(k) = 2$.\n",
    "$$P^{s=1}_n(\\pmb \\sigma_n) = ((1 - \\epsilon)^{n})^k(1 - (1 - \\epsilon)^{n})^{b^n - k} \\quad \\text{where k - number of 1 states on the last level}$$\n",
    "$$\\| P^{s=1}_{n} - P^{s=2}_{n} \\|_1 = (1 - (1 - (1 - \\epsilon)^n)^{b^n}) + \\sum_{k = 1}^{b^n} C_{b^n}^k ((1 - \\epsilon)^{n})^k(1 - (1 - \\epsilon)^{n})^{b^n - k} = (1 - (1 - (1 - \\epsilon)^n)^{b^n}) + 1 - (1 - (1 - \\epsilon)^{n})^{b^n} = 2(1 - (1- (1 - \\epsilon)^n)^{b^n}$$\n",
    "Let's explore the limit of $f(n) = (1- (1 - \\epsilon)^n)^{b^n}$ as $n\\rightarrow \\infty$\n",
    "$$ \\ln f(n) = b^n \\ln(1 - (1 - \\epsilon)^n) \\overset{|1 - \\epsilon| \\leq 1}{\\rightarrow} -b^n(1 - \\epsilon)^n = -(b(1 - \\epsilon))^n$$\n",
    "If $b(1 - \\epsilon) > 1 \\Rightarrow \\epsilon < 1 - \\frac{1}{b} \\rightarrow f(n) \\overset{n \\rightarrow \\infty}{\\rightarrow} 0.$ <br>\\\n",
    "If $b(1 - \\epsilon) < 1 \\Rightarrow \\epsilon > 1 - \\frac{1}{b} \\rightarrow f(n) \\overset{n \\rightarrow \\infty}{\\rightarrow}$ 1.\n",
    "3.\n",
    "$$\\text{survival rate} = 1 - \\text{death rate}$$\n",
    "$$\\text{death rate} = P_\\text{death}(n) = P(\\pmb\\sigma_n:\\forall k \\rightarrow \\pmb\\sigma_n(k) = 2|\\sigma_0=1)$$\n",
    "Let's also denote $P_k(n) = P(\\pmb\\sigma_n(k) = 2|\\sigma_0=1)$ - probability that one chosen spin on the n-th level has state $2$. Due to the symmetry $P_k(n)$ does not depend on  $k$.\n",
    "$$P_\\text{death}(n) = \\prod_{k_i \\in \\pmb \\sigma_n} P_k(n) = (P_0(n))^{2^n}$$\n",
    "Consider some spin on layer $n + 1$: <br>\n",
    "Probability that it is in the state 2 is $1 - (1 - \\epsilon)^n$ (second term represents situation when all of its ancestors stayed in state 1).\n",
    "$$ P_0(n) = 1 - (1 - \\epsilon)^n \\Rightarrow P_\\text{death}(n) = (1 - (1 - \\epsilon)^n)^{2^n}$$\n",
    "$$\\text{survival rate} = 1 - (1 - (1 - \\epsilon)^n)^{2^n}$$"
   ]
  },
  {
   "cell_type": "code",
   "execution_count": 66,
   "metadata": {},
   "outputs": [],
   "source": [
    "from __future__ import print_function \n",
    "import numpy as np\n",
    "import matplotlib.pyplot as plt\n",
    "import networkx as nx\n",
    "%matplotlib inline\n",
    "\n",
    "\n",
    "def makeRandFlips(spinA,  # input spins at a certain hierarchy level, as an array \n",
    "                  b,      # branching number\n",
    "                  eps     # spin flip probability\n",
    "                  ):\n",
    "    shape1 = [b] + list(spinA.shape)\n",
    "    spinA1 = np.empty(shape1, 'int')\n",
    "    for a in range(b):\n",
    "        flipA = np.random.rand(*list(spinA.shape)) < eps\n",
    "        #print('Spin', spinA, '\\n', 'flip', flipA)\n",
    "        #print('sum', spinA + flipA)\n",
    "        spinA1[a] = np.clip(spinA + flipA, 1, 2)\n",
    "        #print('res', spinA1)\n",
    "    return spinA1    # spins at the next level\n",
    "\n",
    "\n",
    "def runRandFlow(depth, \n",
    "                b,\n",
    "                eps,\n",
    "                root=1\n",
    "               ): # run a full random hierarchical flow of spin flips\n",
    "    spinA = np.array([root], 'int')\n",
    "    spinAL = [spinA]\n",
    "\n",
    "    for level in range(depth):\n",
    "        spinAL.append(makeRandFlips(spinAL[-1], b, eps))\n",
    "    return spinAL # the full flow as a list of arrays\n",
    "\n",
    "\n",
    "def spinAL2tree(spinAL,\n",
    "                plot=True,\n",
    "                savefig=False\n",
    "               ): # convert spin array list into a tree\n",
    "    tree = nx.DiGraph()\n",
    "    for level in range(len(spinAL)):\n",
    "        for index, value in np.ndenumerate(spinAL[level]):\n",
    "            node = tree.add_node(index)\n",
    "            tree.nodes[index]['v'] = value\n",
    "            if level > 0:\n",
    "                predecessor = tuple(list(index)[1:])\n",
    "                tree.add_edge(predecessor, index)\n",
    "    \n",
    "    # assign reasonable positions and colors for visualization\n",
    "    pos = nx.spring_layout(tree)\n",
    "    for level in range(len(spinAL)):  \n",
    "        for index, value in np.ndenumerate(spinAL[level]):\n",
    "            pos[index] = (np.sum([3.1**(l-level)*(index[l]-(spinAL[level].shape[l]-1.)/2)/(spinAL[level].shape[l]-1.+1e-8) \n",
    "                                  for l in range(level+1)]),\n",
    "                         -level)  \n",
    "    if plot:\n",
    "        nx.draw(tree, pos, node_color=['b' if tree.nodes[node]['v']==1 else 'r' for node in tree.nodes], node_size=100)\n",
    "        if savefig:\n",
    "            plt.savefig('tree.pdf')\n",
    "    return tree\n",
    "\n",
    "\n",
    "def reconstruct(spinA, # final layer \n",
    "                method,\n",
    "                eps=0.5 # needed for Max Likelihood reconstruction\n",
    "               ):\n",
    "    spinA = spinA - 1.5\n",
    "    if method == 'random':\n",
    "        root = np.random.randint(2)-1\n",
    "        \n",
    "    elif method == 'globalMajority':\n",
    "        root = 1 if np.sum(spinA) > 0 else -1\n",
    "    \n",
    "    elif method == 'localMajority':\n",
    "        for layer in range(len(spinA.shape)-1):\n",
    "            spinA = 2*(spinA.sum(axis=0) > 0)-1\n",
    "        root = int(spinA)\n",
    "        \n",
    "    elif method == 'maxLikelihood':\n",
    "        \n",
    "        spinApos = spinA > 0\n",
    "        spinAneg = spinA < 0      \n",
    "        for layer in range(len(spinA.shape)-1):\n",
    "            spinApos, spinAneg = ((spinApos).prod(axis=0), \n",
    "                                   (spinAneg*(1-eps)+spinApos*eps).prod(axis=0) )\n",
    "            \n",
    "            # normalize to avoid convergence to 0\n",
    "            m = spinApos+spinAneg\n",
    "            spinApos, spinAneg = spinApos/m, spinAneg/m\n",
    "            \n",
    "        root = int(2*(spinApos > spinAneg)-1)\n",
    "        \n",
    "    return int(root / 2 + 1.5)"
   ]
  },
  {
   "cell_type": "code",
   "execution_count": 55,
   "metadata": {},
   "outputs": [
    {
     "data": {
      "image/png": "[encoded data removed]",
      "text/plain": [
       "<Figure size 432x288 with 1 Axes>"
      ]
     },
     "metadata": {},
     "output_type": "display_data"
    }
   ],
   "source": [
    "spinAL = runRandFlow(depth=5, \n",
    "                     b=3,\n",
    "                     eps=0.2,\n",
    "                     root=2)\n",
    "\n",
    "tree = spinAL2tree(spinAL)"
   ]
  },
  {
   "cell_type": "code",
   "execution_count": 46,
   "metadata": {},
   "outputs": [
    {
     "data": {
      "image/png": "[encoded data removed]",
      "text/plain": [
       "<Figure size 432x288 with 1 Axes>"
      ]
     },
     "metadata": {},
     "output_type": "display_data"
    }
   ],
   "source": [
    "spinAL = runRandFlow(depth=5, \n",
    "                     b=3,\n",
    "                     eps=0.2,\n",
    "                     root=1)\n",
    "\n",
    "tree = spinAL2tree(spinAL)"
   ]
  },
  {
   "cell_type": "code",
   "execution_count": 60,
   "metadata": {},
   "outputs": [
    {
     "name": "stdout",
     "output_type": "stream",
     "text": [
      "True root: 1\n",
      "random 1\n",
      "globalMajority 2\n",
      "localMajority 1\n",
      "maxLikelihood 1\n"
     ]
    },
    {
     "data": {
      "image/png": "[encoded data removed]",
      "text/plain": [
       "<Figure size 432x288 with 1 Axes>"
      ]
     },
     "metadata": {},
     "output_type": "display_data"
    }
   ],
   "source": [
    "def testReconstruct():\n",
    "    root = np.random.randint(2) + 1\n",
    "    print ('True root:', root)\n",
    "    \n",
    "    depth = 2\n",
    "    b = 3\n",
    "    eps = 0.2\n",
    "\n",
    "    spinAL = runRandFlow(depth=depth, \n",
    "                 b=b,\n",
    "                 eps=eps,\n",
    "                 root=root)\n",
    "\n",
    "    tree = spinAL2tree(spinAL)\n",
    "\n",
    "    methodL = ['random', 'globalMajority', 'localMajority', 'maxLikelihood']\n",
    "    for method in methodL:\n",
    "        root = reconstruct(spinAL[-1], method, eps)\n",
    "        print (method, root)\n",
    "        \n",
    "testReconstruct()"
   ]
  },
  {
   "cell_type": "code",
   "execution_count": 69,
   "metadata": {},
   "outputs": [],
   "source": [
    "def getShareCorrect(Nruns,\n",
    "                   depth,\n",
    "                   b,\n",
    "                   eps,\n",
    "                   methodL\n",
    "                  ):\n",
    "    Ncorrect = {}\n",
    "    for method in methodL:\n",
    "        Ncorrect[method] = 0 \n",
    "\n",
    "    for _ in range(Nruns):\n",
    "        root = np.random.randint(2)+1\n",
    "        spinAL = runRandFlow(depth=depth, \n",
    "                             b=b,\n",
    "                             eps=eps,\n",
    "                             root=root)\n",
    "        for method in methodL:\n",
    "            rootPred = reconstruct(spinAL[-1], method, eps)\n",
    "            Ncorrect[method] += rootPred == root\n",
    "    \n",
    "    shareCorrect = dict([(method, float(Ncorrect[method])/Nruns) for method in methodL])\n",
    "    return shareCorrect"
   ]
  },
  {
   "cell_type": "code",
   "execution_count": 72,
   "metadata": {},
   "outputs": [
    {
     "data": {
      "application/json": {
       "ascii": false,
       "bar_format": null,
       "colour": null,
       "elapsed": 0.021770954132080078,
       "initial": 0,
       "n": 0,
       "ncols": null,
       "nrows": 74,
       "postfix": null,
       "prefix": "",
       "rate": null,
       "total": 20,
       "unit": "it",
       "unit_divisor": 1000,
       "unit_scale": false
      },
      "application/vnd.jupyter.widget-view+json": {
       "model_id": "6aa151890fcd40e29618f197417c9a39",
       "version_major": 2,
       "version_minor": 0
      },
      "text/plain": [
       "  0%|          | 0/20 [00:00<?, ?it/s]"
      ]
     },
     "metadata": {},
     "output_type": "display_data"
    },
    {
     "data": {
      "application/json": {
       "ascii": false,
       "bar_format": null,
       "colour": null,
       "elapsed": 0.00668787956237793,
       "initial": 0,
       "n": 0,
       "ncols": null,
       "nrows": 74,
       "postfix": null,
       "prefix": "",
       "rate": null,
       "total": 2,
       "unit": "it",
       "unit_divisor": 1000,
       "unit_scale": false
      },
      "application/vnd.jupyter.widget-view+json": {
       "model_id": "a94db127de3d495c84392595040b1c99",
       "version_major": 2,
       "version_minor": 0
      },
      "text/plain": [
       "  0%|          | 0/2 [00:00<?, ?it/s]"
      ]
     },
     "metadata": {},
     "output_type": "display_data"
    },
    {
     "data": {
      "application/json": {
       "ascii": false,
       "bar_format": null,
       "colour": null,
       "elapsed": 0.0068511962890625,
       "initial": 0,
       "n": 0,
       "ncols": null,
       "nrows": 74,
       "postfix": null,
       "prefix": "",
       "rate": null,
       "total": 2,
       "unit": "it",
       "unit_divisor": 1000,
       "unit_scale": false
      },
      "application/vnd.jupyter.widget-view+json": {
       "model_id": "50956137ed41403f80d36b5a906d4c09",
       "version_major": 2,
       "version_minor": 0
      },
      "text/plain": [
       "  0%|          | 0/2 [00:00<?, ?it/s]"
      ]
     },
     "metadata": {},
     "output_type": "display_data"
    },
    {
     "data": {
      "application/json": {
       "ascii": false,
       "bar_format": null,
       "colour": null,
       "elapsed": 0.006557941436767578,
       "initial": 0,
       "n": 0,
       "ncols": null,
       "nrows": 74,
       "postfix": null,
       "prefix": "",
       "rate": null,
       "total": 2,
       "unit": "it",
       "unit_divisor": 1000,
       "unit_scale": false
      },
      "application/vnd.jupyter.widget-view+json": {
       "model_id": "b33a9273a921461e97de52b46061b46b",
       "version_major": 2,
       "version_minor": 0
      },
      "text/plain": [
       "  0%|          | 0/2 [00:00<?, ?it/s]"
      ]
     },
     "metadata": {},
     "output_type": "display_data"
    },
    {
     "data": {
      "application/json": {
       "ascii": false,
       "bar_format": null,
       "colour": null,
       "elapsed": 0.006563901901245117,
       "initial": 0,
       "n": 0,
       "ncols": null,
       "nrows": 74,
       "postfix": null,
       "prefix": "",
       "rate": null,
       "total": 2,
       "unit": "it",
       "unit_divisor": 1000,
       "unit_scale": false
      },
      "application/vnd.jupyter.widget-view+json": {
       "model_id": "094c3202efa94c9aa4258625f64fb772",
       "version_major": 2,
       "version_minor": 0
      },
      "text/plain": [
       "  0%|          | 0/2 [00:00<?, ?it/s]"
      ]
     },
     "metadata": {},
     "output_type": "display_data"
    },
    {
     "data": {
      "application/json": {
       "ascii": false,
       "bar_format": null,
       "colour": null,
       "elapsed": 0.006565093994140625,
       "initial": 0,
       "n": 0,
       "ncols": null,
       "nrows": 74,
       "postfix": null,
       "prefix": "",
       "rate": null,
       "total": 2,
       "unit": "it",
       "unit_divisor": 1000,
       "unit_scale": false
      },
      "application/vnd.jupyter.widget-view+json": {
       "model_id": "ca156e2837a04846b0b64196ce01e857",
       "version_major": 2,
       "version_minor": 0
      },
      "text/plain": [
       "  0%|          | 0/2 [00:00<?, ?it/s]"
      ]
     },
     "metadata": {},
     "output_type": "display_data"
    },
    {
     "data": {
      "application/json": {
       "ascii": false,
       "bar_format": null,
       "colour": null,
       "elapsed": 0.006646156311035156,
       "initial": 0,
       "n": 0,
       "ncols": null,
       "nrows": 74,
       "postfix": null,
       "prefix": "",
       "rate": null,
       "total": 2,
       "unit": "it",
       "unit_divisor": 1000,
       "unit_scale": false
      },
      "application/vnd.jupyter.widget-view+json": {
       "model_id": "8c2abc33093c47cf8fa0ee63d9266c5d",
       "version_major": 2,
       "version_minor": 0
      },
      "text/plain": [
       "  0%|          | 0/2 [00:00<?, ?it/s]"
      ]
     },
     "metadata": {},
     "output_type": "display_data"
    },
    {
     "data": {
      "application/json": {
       "ascii": false,
       "bar_format": null,
       "colour": null,
       "elapsed": 0.006582021713256836,
       "initial": 0,
       "n": 0,
       "ncols": null,
       "nrows": 74,
       "postfix": null,
       "prefix": "",
       "rate": null,
       "total": 2,
       "unit": "it",
       "unit_divisor": 1000,
       "unit_scale": false
      },
      "application/vnd.jupyter.widget-view+json": {
       "model_id": "e3c574ed331547c78b1e6a3433e825cc",
       "version_major": 2,
       "version_minor": 0
      },
      "text/plain": [
       "  0%|          | 0/2 [00:00<?, ?it/s]"
      ]
     },
     "metadata": {},
     "output_type": "display_data"
    },
    {
     "data": {
      "application/json": {
       "ascii": false,
       "bar_format": null,
       "colour": null,
       "elapsed": 0.006543874740600586,
       "initial": 0,
       "n": 0,
       "ncols": null,
       "nrows": 74,
       "postfix": null,
       "prefix": "",
       "rate": null,
       "total": 2,
       "unit": "it",
       "unit_divisor": 1000,
       "unit_scale": false
      },
      "application/vnd.jupyter.widget-view+json": {
       "model_id": "59151b98eba2486695effff7575a2a35",
       "version_major": 2,
       "version_minor": 0
      },
      "text/plain": [
       "  0%|          | 0/2 [00:00<?, ?it/s]"
      ]
     },
     "metadata": {},
     "output_type": "display_data"
    },
    {
     "data": {
      "application/json": {
       "ascii": false,
       "bar_format": null,
       "colour": null,
       "elapsed": 0.006569862365722656,
       "initial": 0,
       "n": 0,
       "ncols": null,
       "nrows": 74,
       "postfix": null,
       "prefix": "",
       "rate": null,
       "total": 2,
       "unit": "it",
       "unit_divisor": 1000,
       "unit_scale": false
      },
      "application/vnd.jupyter.widget-view+json": {
       "model_id": "7b27f9196ba44190bd860f9e536fcac3",
       "version_major": 2,
       "version_minor": 0
      },
      "text/plain": [
       "  0%|          | 0/2 [00:00<?, ?it/s]"
      ]
     },
     "metadata": {},
     "output_type": "display_data"
    },
    {
     "data": {
      "application/json": {
       "ascii": false,
       "bar_format": null,
       "colour": null,
       "elapsed": 0.006573200225830078,
       "initial": 0,
       "n": 0,
       "ncols": null,
       "nrows": 74,
       "postfix": null,
       "prefix": "",
       "rate": null,
       "total": 2,
       "unit": "it",
       "unit_divisor": 1000,
       "unit_scale": false
      },
      "application/vnd.jupyter.widget-view+json": {
       "model_id": "dde0805712d642b2951aef03296d1892",
       "version_major": 2,
       "version_minor": 0
      },
      "text/plain": [
       "  0%|          | 0/2 [00:00<?, ?it/s]"
      ]
     },
     "metadata": {},
     "output_type": "display_data"
    },
    {
     "data": {
      "application/json": {
       "ascii": false,
       "bar_format": null,
       "colour": null,
       "elapsed": 0.006529092788696289,
       "initial": 0,
       "n": 0,
       "ncols": null,
       "nrows": 74,
       "postfix": null,
       "prefix": "",
       "rate": null,
       "total": 2,
       "unit": "it",
       "unit_divisor": 1000,
       "unit_scale": false
      },
      "application/vnd.jupyter.widget-view+json": {
       "model_id": "562dbc933065437ea386dc416aa91cf3",
       "version_major": 2,
       "version_minor": 0
      },
      "text/plain": [
       "  0%|          | 0/2 [00:00<?, ?it/s]"
      ]
     },
     "metadata": {},
     "output_type": "display_data"
    },
    {
     "data": {
      "application/json": {
       "ascii": false,
       "bar_format": null,
       "colour": null,
       "elapsed": 0.0065801143646240234,
       "initial": 0,
       "n": 0,
       "ncols": null,
       "nrows": 74,
       "postfix": null,
       "prefix": "",
       "rate": null,
       "total": 2,
       "unit": "it",
       "unit_divisor": 1000,
       "unit_scale": false
      },
      "application/vnd.jupyter.widget-view+json": {
       "model_id": "41356e221e7e488f879901e6b2f878f6",
       "version_major": 2,
       "version_minor": 0
      },
      "text/plain": [
       "  0%|          | 0/2 [00:00<?, ?it/s]"
      ]
     },
     "metadata": {},
     "output_type": "display_data"
    },
    {
     "data": {
      "application/json": {
       "ascii": false,
       "bar_format": null,
       "colour": null,
       "elapsed": 0.007318973541259766,
       "initial": 0,
       "n": 0,
       "ncols": null,
       "nrows": 74,
       "postfix": null,
       "prefix": "",
       "rate": null,
       "total": 2,
       "unit": "it",
       "unit_divisor": 1000,
       "unit_scale": false
      },
      "application/vnd.jupyter.widget-view+json": {
       "model_id": "9e59943e890f4df1a556000eb340d7fd",
       "version_major": 2,
       "version_minor": 0
      },
      "text/plain": [
       "  0%|          | 0/2 [00:00<?, ?it/s]"
      ]
     },
     "metadata": {},
     "output_type": "display_data"
    },
    {
     "data": {
      "application/json": {
       "ascii": false,
       "bar_format": null,
       "colour": null,
       "elapsed": 0.00656890869140625,
       "initial": 0,
       "n": 0,
       "ncols": null,
       "nrows": 74,
       "postfix": null,
       "prefix": "",
       "rate": null,
       "total": 2,
       "unit": "it",
       "unit_divisor": 1000,
       "unit_scale": false
      },
      "application/vnd.jupyter.widget-view+json": {
       "model_id": "8ae6bea36a7842a8909a667457c4ea16",
       "version_major": 2,
       "version_minor": 0
      },
      "text/plain": [
       "  0%|          | 0/2 [00:00<?, ?it/s]"
      ]
     },
     "metadata": {},
     "output_type": "display_data"
    },
    {
     "data": {
      "application/json": {
       "ascii": false,
       "bar_format": null,
       "colour": null,
       "elapsed": 0.0066127777099609375,
       "initial": 0,
       "n": 0,
       "ncols": null,
       "nrows": 74,
       "postfix": null,
       "prefix": "",
       "rate": null,
       "total": 2,
       "unit": "it",
       "unit_divisor": 1000,
       "unit_scale": false
      },
      "application/vnd.jupyter.widget-view+json": {
       "model_id": "1d66dde484c646bf9fb23467d2205111",
       "version_major": 2,
       "version_minor": 0
      },
      "text/plain": [
       "  0%|          | 0/2 [00:00<?, ?it/s]"
      ]
     },
     "metadata": {},
     "output_type": "display_data"
    },
    {
     "data": {
      "application/json": {
       "ascii": false,
       "bar_format": null,
       "colour": null,
       "elapsed": 0.006545066833496094,
       "initial": 0,
       "n": 0,
       "ncols": null,
       "nrows": 74,
       "postfix": null,
       "prefix": "",
       "rate": null,
       "total": 2,
       "unit": "it",
       "unit_divisor": 1000,
       "unit_scale": false
      },
      "application/vnd.jupyter.widget-view+json": {
       "model_id": "11a689e448b44599bfd314f0fdc62c4f",
       "version_major": 2,
       "version_minor": 0
      },
      "text/plain": [
       "  0%|          | 0/2 [00:00<?, ?it/s]"
      ]
     },
     "metadata": {},
     "output_type": "display_data"
    },
    {
     "data": {
      "application/json": {
       "ascii": false,
       "bar_format": null,
       "colour": null,
       "elapsed": 0.006748199462890625,
       "initial": 0,
       "n": 0,
       "ncols": null,
       "nrows": 74,
       "postfix": null,
       "prefix": "",
       "rate": null,
       "total": 2,
       "unit": "it",
       "unit_divisor": 1000,
       "unit_scale": false
      },
      "application/vnd.jupyter.widget-view+json": {
       "model_id": "e3220d87f49f4e91b963e875a11040d7",
       "version_major": 2,
       "version_minor": 0
      },
      "text/plain": [
       "  0%|          | 0/2 [00:00<?, ?it/s]"
      ]
     },
     "metadata": {},
     "output_type": "display_data"
    },
    {
     "data": {
      "application/json": {
       "ascii": false,
       "bar_format": null,
       "colour": null,
       "elapsed": 0.006582975387573242,
       "initial": 0,
       "n": 0,
       "ncols": null,
       "nrows": 74,
       "postfix": null,
       "prefix": "",
       "rate": null,
       "total": 2,
       "unit": "it",
       "unit_divisor": 1000,
       "unit_scale": false
      },
      "application/vnd.jupyter.widget-view+json": {
       "model_id": "ae11ed037e89422fb115a66c462914b2",
       "version_major": 2,
       "version_minor": 0
      },
      "text/plain": [
       "  0%|          | 0/2 [00:00<?, ?it/s]"
      ]
     },
     "metadata": {},
     "output_type": "display_data"
    },
    {
     "data": {
      "application/json": {
       "ascii": false,
       "bar_format": null,
       "colour": null,
       "elapsed": 0.006505250930786133,
       "initial": 0,
       "n": 0,
       "ncols": null,
       "nrows": 74,
       "postfix": null,
       "prefix": "",
       "rate": null,
       "total": 2,
       "unit": "it",
       "unit_divisor": 1000,
       "unit_scale": false
      },
      "application/vnd.jupyter.widget-view+json": {
       "model_id": "da9115cd31f946b6ae9e9efe74183a6e",
       "version_major": 2,
       "version_minor": 0
      },
      "text/plain": [
       "  0%|          | 0/2 [00:00<?, ?it/s]"
      ]
     },
     "metadata": {},
     "output_type": "display_data"
    },
    {
     "data": {
      "application/json": {
       "ascii": false,
       "bar_format": null,
       "colour": null,
       "elapsed": 0.0066089630126953125,
       "initial": 0,
       "n": 0,
       "ncols": null,
       "nrows": 74,
       "postfix": null,
       "prefix": "",
       "rate": null,
       "total": 2,
       "unit": "it",
       "unit_divisor": 1000,
       "unit_scale": false
      },
      "application/vnd.jupyter.widget-view+json": {
       "model_id": "bc6d86d9c987492c85f0481206568b9e",
       "version_major": 2,
       "version_minor": 0
      },
      "text/plain": [
       "  0%|          | 0/2 [00:00<?, ?it/s]"
      ]
     },
     "metadata": {},
     "output_type": "display_data"
    },
    {
     "name": "stdout",
     "output_type": "stream",
     "text": [
      "critical epsilon: 0.5\n"
     ]
    },
    {
     "data": {
      "image/png": "[encoded data removed]",
      "text/plain": [
       "<Figure size 504x360 with 1 Axes>"
      ]
     },
     "metadata": {
      "needs_background": "light"
     },
     "output_type": "display_data"
    }
   ],
   "source": [
    "from tqdm.notebook import tqdm\n",
    "\n",
    "\n",
    "Nruns = 1000\n",
    "depth = 15\n",
    "b = 2\n",
    "epsL = np.linspace(0, 1, 20)\n",
    "shareCorrect = {}\n",
    "methodL = ['random','maxLikelihood']\n",
    "for method in methodL:\n",
    "    shareCorrect[method] = []\n",
    "for eps in tqdm(epsL):\n",
    "    res = getShareCorrect(Nruns, depth, b, eps, methodL)\n",
    "    for method in tqdm(methodL):\n",
    "        shareCorrect[method].append(res[method])\n",
    "\n",
    "plt.figure(figsize=(7,5))\n",
    "        \n",
    "for method in methodL:\n",
    "    plt.plot(epsL, shareCorrect[method], label=method)\n",
    "    \n",
    "yrange = [np.min(shareCorrect['maxLikelihood']), np.max(shareCorrect['maxLikelihood'])]\n",
    "\n",
    "eps_crit_SK = 1 - 1/b \n",
    "print ('critical epsilon:', eps_crit_SK)\n",
    "plt.plot([eps_crit_SK, eps_crit_SK], yrange, '--', label='$b(1-\\epsilon)=1$')\n",
    "\n",
    "\n",
    "plt.legend()\n",
    "plt.xlabel('Success probability')\n",
    "plt.xlabel('$\\epsilon$')\n",
    "plt.title('Binary symmetric channel, b: %d, depth: %d' %(b, depth))\n",
    "plt.savefig('reconstruction_comparison.pdf')\n",
    "plt.show()"
   ]
  },
  {
   "cell_type": "markdown",
   "metadata": {
    "id": "Hg0DPaezZIAJ"
   },
   "source": [
    "**Problem 2.** Suppose we are fitting a function $y=f(\\mathbf x), f:\\mathbb R^{d}\\to\\mathbb R,$ by a neural network $\\widetilde f(\\mathbf x, \\mathbf W)$, where $\\mathbf W$ are all the weights of the network. Consider the standard quadratic loss function $L(\\mathbf W)=\\tfrac{1}{2N}\\sum_{n=1}^N(y_n-\\widetilde f(\\mathbf x_n, \\mathbf W))^2$, where $\\{(\\mathbf x_n,y_n)\\}$ is a training set. Suppose that the network $\\widetilde f$ has $U$ neurons and $V$ connections. As usual, each hidden neuron computes an expression of the form $\\sigma(\\sum_{k}w_kz_k+h)$, where $z_k$ denotes neuron inputs, and $\\sigma$ is an activation function. \n",
    "\n",
    "Count the total number of elementary operations required to compute the gradient $\\nabla_{\\mathbf W}L(\\mathbf W)$ by backpropagation. (Assume that an elementary operation is an arithmetic operation or an evaluation of $\\sigma(x)$ or $\\sigma'(x)$.)"
   ]
  },
  {
   "cell_type": "markdown",
   "metadata": {},
   "source": [
    "$$\\nabla_{\\mathbf W}L(\\mathbf W) = \\frac{1}{2}\\sum_{n=1}^N(\\widetilde f(\\mathbf x_n, \\mathbf W) - y_n) \\nabla_{\\mathbf W}\\widetilde f(\\mathbf x_n, \\mathbf W)$$\n",
    "$w^{(k)}_{lt}$ - weight between $l$-th and $t$-th neuron on layers $k$ and $k + 1$, $z^{(k)}_l$ - output of $l$-th neuron on $k$-th layer. <br>\n",
    "First of all we need to compute the forward pass. Consider some neuron i (denote number of connections coming to it from previous layer as $c_i$), if we want to calculate its output we would need to make $c_i$ multiplications, $c_i$ additions ($c_i - 1$ variables + bias) and 1 activation, $2c_i + 1$ operations in total. Summing over all neurons we get $2 \\cdot \\{ \\text{total # connections} \\} + \\{ \\text{total # of neurons}\\}$ for forward pass. <br>\n",
    "We should calculate derrivatives up to the first layer, and since we are using backpropogation all other derrivatives will be computed along the way.\n",
    "$$\\widetilde f(\\mathbf x_n, \\mathbf W) = \\sigma \\left( \\sum_k w^{(L)}_k z^{(L)}_k + h_L \\right)$$\n",
    "$$\\frac{\\partial \\widetilde f(\\mathbf x_n, \\mathbf W)}{\\partial w^{(0)}_{lt}} = \\sigma' \\left( \\sum_k w^{(L)}_k z^{(L)}_k + h_L \\right) \\sum_k w^{(L)}_k \\frac{\\partial z^{(L)}_k}{\\partial w^{(0)}_{lt}}$$\n",
    "$$\\frac{\\partial z^{(L)}_r}{\\partial w^{(0)}_{lt}} = \\sigma' \\left( \\sum_k w^{(L - 1)}_{kr} z^{(L - 1)}_k + h_{L - 1} \\right) \\sum_k w^{(L - 1)}_{kr} \\frac{\\partial z^{(L)}_k}{\\partial w^{(0)}_{lt}}$$\n",
    "$$ \\ldots $$\n",
    "$$\\frac{\\partial z^{(2)}_r}{\\partial w^{(0)}_{lt}} = \\sigma' \\left( \\sum_k w^{(1)}_{kr} z^{(1)}_k + h_{1} \\right) w^{(1)}_{tr} \\frac{\\partial z^{(1)}_t}{\\partial w^{(0)}_{lt}}$$\n",
    "$$\\frac{\\partial z^{(1)}_t}{\\partial w^{(0)}_{lt}} = \\sigma' \\left( \\sum_k w^{(0)}_{kr} x_k + h_{0} \\right) x_l$$\n",
    "For simplicity we can consider all weights to be nonzero. Also remember that all neurons' outputs are computed during the forward pass. Let's move from the bottom to the top of this chain and count operations. $\\frac{\\partial z^{(1)}_t}{\\partial w^{(0)}_{lt}}$ requires 2 operations, $\\frac{\\partial z^{(2)}_r}{\\partial w^{(0)}_{lt}}$ will require 3 more operations but now we should calculate it for all $r$ on the layer $(2)$ (3 $\\cdot$ #number of neurons on (2)). For the $\\frac{\\partial z^{(3)}_r}{\\partial w^{(0)}_{lt}}$ we would need 1 operation for $\\sigma'$, $2 \\cdot$ #{number of connections between $z^{(3)}_r$ and layer $(2)$} - 1 for sums and multiplication of weights and derrivatives. Once again we should compute it for all neurons on $(3)$, so in total we have $2 \\cdot$ #{number of connections between layer $3$ and layer $2$}. From now on the logic is the same as with layers $(2, 3)$, on every step we would need $2 \\cdot$ #{number of connections between layer $X$ and layer $X + 1$} operations. <br> For all derrivative we would need $2 \\cdot \\{\\text{total # of connections}\\}$. <br>\n",
    "$\\nabla_{\\mathbf W}\\widetilde f(\\mathbf x_n, \\mathbf W)$ with forward and backward passes requires $4V + U$ operations. (with fixed $\\mathbf x_n$). $\\nabla_{\\mathbf W}L(\\mathbf W)$ will require $(4V + U + 2) \\cdot N + 1$ operations.\n"
   ]
  },
  {
   "cell_type": "code",
   "execution_count": null,
   "metadata": {},
   "outputs": [],
   "source": []
  }
 ],
 "metadata": {
  "colab": {
   "provenance": []
  },
  "kernelspec": {
   "display_name": "Python 3 (ipykernel)",
   "language": "python",
   "name": "python3"
  },
  "language_info": {
   "codemirror_mode": {
    "name": "ipython",
    "version": 3
   },
   "file_extension": ".py",
   "mimetype": "text/x-python",
   "name": "python",
   "nbconvert_exporter": "python",
   "pygments_lexer": "ipython3",
   "version": "3.9.7"
  }
 },
 "nbformat": 4,
 "nbformat_minor": 1
}
